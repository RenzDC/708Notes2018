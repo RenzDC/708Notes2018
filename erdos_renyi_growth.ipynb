{
 "cells": [
  {
   "cell_type": "markdown",
   "metadata": {},
   "source": [
    "## Erdös-Renyi growth model"
   ]
  },
  {
   "cell_type": "code",
   "execution_count": null,
   "metadata": {
    "collapsed": true
   },
   "outputs": [],
   "source": [
    "import networkx as nx\n",
    "import numpy as np"
   ]
  },
  {
   "cell_type": "code",
   "execution_count": null,
   "metadata": {
    "collapsed": true
   },
   "outputs": [],
   "source": [
    "def random_Subset(nlist,m,weight=None):\n",
    "    targets = set()\n",
    "    while len(targets) < m:\n",
    "        if weight:\n",
    "            x = np.random.choice(nlist,p=weight)\n",
    "        else:\n",
    "            x = np.random.choice(nlist)\n",
    "        targets.add(x)\n",
    "            \n",
    "    return targets"
   ]
  },
  {
   "cell_type": "code",
   "execution_count": null,
   "metadata": {
    "collapsed": true
   },
   "outputs": [],
   "source": [
    "def erdos_renyi_growth_generator(N,m):\n",
    "    \n",
    "    G=nx.empty_graph(m)\n",
    "    targets = list(range(m)) #first step targets\n",
    "    nlist = [] # list of targets for the rest of the network growth\n",
    "    for node in targets:\n",
    "        nlist.append(node)\n",
    "    new_node = m\n",
    "    while new_node < N:\n",
    "        G.add_edges_from(zip([new_node]*m,targets))\n",
    "        nlist.append(new_node)\n",
    "        targets = random_Subset(nlist,m)\n",
    "        new_node += 1\n",
    "        \n",
    "    return G"
   ]
  }
 ],
 "metadata": {
  "anaconda-cloud": {},
  "kernelspec": {
   "display_name": "Python [conda root]",
   "language": "python",
   "name": "conda-root-py"
  },
  "language_info": {
   "codemirror_mode": {
    "name": "ipython",
    "version": 2
   },
   "file_extension": ".py",
   "mimetype": "text/x-python",
   "name": "python",
   "nbconvert_exporter": "python",
   "pygments_lexer": "ipython2",
   "version": "2.7.12"
  }
 },
 "nbformat": 4,
 "nbformat_minor": 1
}
